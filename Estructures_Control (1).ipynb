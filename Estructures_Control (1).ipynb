{
 "cells": [
  {
   "cell_type": "markdown",
   "id": "b6b812fe",
   "metadata": {},
   "source": [
    "# TASCA M2 T02"
   ]
  },
  {
   "cell_type": "markdown",
   "id": "bd6f2a2f",
   "metadata": {},
   "source": [
    "## Exercici 1"
   ]
  },
  {
   "cell_type": "code",
   "execution_count": null,
   "id": "744857b6",
   "metadata": {},
   "outputs": [],
   "source": [
    "Nombre = float(input(\"Entra la teva nota del 0 al 10 si us plau:\" ))\n",
    "#Per assegurar que entren una nota del 0 al 10\n",
    "while Nombre <0 or Nombre > 10:\n",
    "    print(\"Error. Entra un nombre del 0 al 10, si us plau:\")\n",
    "    Nombre = float(input(\"Entra un nombre del 0 al 10: \"))\n",
    "#Condiciono les xifres                      \n",
    "if Nombre >= 0 and Nombre < 5:\n",
    "    Nota = \"Suspès\"\n",
    "elif Nombre >= 5 and Nombre <= 7:\n",
    "    Nota = \"Aprovat\"\n",
    "elif Nombre > 7 and Nombre < 9:\n",
    "    Nota = \"Notable\"\n",
    "elif Nombre >= 9 and Nombre <= 10:\n",
    "    Nota = \"Excel·lent\"\n",
    "                     \n",
    "print( \"La nota que has tret és: \",Nota)"
   ]
  },
  {
   "cell_type": "markdown",
   "id": "f306f977",
   "metadata": {},
   "source": [
    "## Exercici 2"
   ]
  },
  {
   "cell_type": "code",
   "execution_count": 1,
   "id": "d83520b6",
   "metadata": {},
   "outputs": [
    {
     "name": "stdout",
     "output_type": "stream",
     "text": [
      "Entra el primer numero: 4\n",
      "Entra el segon numero: 5\n",
      "El segon numero es més gran que el primer\n"
     ]
    }
   ],
   "source": [
    "num1 = int(input('Entra el primer numero: '))\n",
    "num2 = int(input('Entra el segon numero: '))\n",
    "\n",
    "# els numeros son iguals\n",
    "if num1 == num2:\n",
    "    print(\"El primer numero es igual al segon\")\n",
    "#  el primer és més gran\n",
    "elif num1>num2:\n",
    "    print(\"El primer numero es més gran que el segon\")\n",
    "#  el segon és més gran\n",
    "elif num2>num1:\n",
    "    print(\"El segon numero es més gran que el primer\")\n",
    "    "
   ]
  },
  {
   "cell_type": "markdown",
   "id": "696608ce",
   "metadata": {},
   "source": [
    "## Exercici 3"
   ]
  },
  {
   "cell_type": "code",
   "execution_count": 2,
   "id": "c5abee96",
   "metadata": {},
   "outputs": [
    {
     "name": "stdout",
     "output_type": "stream",
     "text": [
      "Entra el teu nom: Angels\n",
      "Entra un numero: 19\n",
      "Angels Angels Angels Angels Angels Angels Angels Angels Angels Angels Angels Angels Angels Angels Angels Angels Angels Angels Angels \n"
     ]
    }
   ],
   "source": [
    "Nom = str(input('Entra el teu nom: '))\n",
    "numero = int(input('Entra un numero: '))\n",
    "if numero == 0:\n",
    "    print('El 0 es un Error')\n",
    "elif numero != 0:\n",
    "    print ((Nom+ \" \") * numero)\n",
    "    "
   ]
  },
  {
   "cell_type": "markdown",
   "id": "6b9eab59",
   "metadata": {},
   "source": [
    "## Exercici 4 Demanant al usuari una llista de numeros"
   ]
  },
  {
   "cell_type": "code",
   "execution_count": null,
   "id": "25d6a5a0",
   "metadata": {},
   "outputs": [],
   "source": [
    "numeros = []  # Crea una llista de numeros\n",
    "\n",
    "while True:\n",
    "    try:\n",
    "        num = input(\"Entra un numero (o escriu 'fet' per acabar): \") \n",
    "        if num.lower() == 'fet':\n",
    "            break  \n",
    "        else:\n",
    "            num = int(num) \n",
    "            numeros.append(num)  # Afegeix el numero a la llista\n",
    "    except ValueError:\n",
    "        print(\"Nomes pots entrar un numero o 'fet'\")\n",
    "\n",
    "print(\"Aquesta es la teva llista: \", numeros)\n",
    "\n",
    "def es_simetrica(numeros):\n",
    "    longitud = len(numeros)\n",
    "    for i in range(longitud // 2):\n",
    "        if numeros[i] != numeros[longitud - i - 1]:\n",
    "            return False\n",
    "    return True\n",
    "    \n",
    "if es_simetrica(numeros):\n",
    "    print(\"La llista és simètrica i té\", len(numeros), \"elements.\")\n",
    "else:\n",
    "    print(\"La llista no és simètrica.\")\n"
   ]
  },
  {
   "cell_type": "markdown",
   "id": "68886b0a",
   "metadata": {},
   "source": [
    "## Exercici 4 Escrivint tu la llista"
   ]
  },
  {
   "cell_type": "code",
   "execution_count": 22,
   "id": "1562bcaf",
   "metadata": {},
   "outputs": [
    {
     "name": "stdout",
     "output_type": "stream",
     "text": [
      "La llista no és simètrica.\n"
     ]
    }
   ],
   "source": [
    "def es_simetrica(llista):\n",
    "    longitud = len(llista)\n",
    "    for i in range(longitud // 2):\n",
    "        if llista[i] != llista[longitud - i - 1]:\n",
    "            return False\n",
    "    return True\n",
    "llista = [0, 1, 2, 8, 3, 2, 1, 0] #Canvia aqui els numeros que vulguis\n",
    "    \n",
    "if es_simetrica(llista):\n",
    "    print(\"La llista és simètrica i té\", len(llista), \"elements.\")\n",
    "else:\n",
    "    print(\"La llista no és simètrica.\")"
   ]
  },
  {
   "cell_type": "markdown",
   "id": "0575ce14",
   "metadata": {},
   "source": [
    "## Exercici 5 Escrivint tu la llista "
   ]
  },
  {
   "cell_type": "code",
   "execution_count": 21,
   "id": "6eea62e5",
   "metadata": {},
   "outputs": [
    {
     "name": "stdout",
     "output_type": "stream",
     "text": [
      "Hi ha 4 números que coincideixen amb la seva posició\n"
     ]
    }
   ],
   "source": [
    "def coincidents_posicio(llisteta):\n",
    "    coincidents = 0\n",
    "    for index, valor in enumerate(llisteta):\n",
    "        if index == valor:\n",
    "            coincidents += 1\n",
    "    return coincidents \n",
    "llisteta = [0,1,2,0,2,3,6] #Canvia aqui els numeros que vulguis\n",
    "if coincidents_posicio(llisteta):\n",
    "    print(\"Hi ha\", coincidents_posicio(llisteta), \"números que coincideixen amb la seva posició\")\n"
   ]
  },
  {
   "cell_type": "code",
   "execution_count": null,
   "id": "071075f5",
   "metadata": {},
   "outputs": [],
   "source": []
  }
 ],
 "metadata": {
  "kernelspec": {
   "display_name": "Python 3 (ipykernel)",
   "language": "python",
   "name": "python3"
  },
  "language_info": {
   "codemirror_mode": {
    "name": "ipython",
    "version": 3
   },
   "file_extension": ".py",
   "mimetype": "text/x-python",
   "name": "python",
   "nbconvert_exporter": "python",
   "pygments_lexer": "ipython3",
   "version": "3.9.12"
  }
 },
 "nbformat": 4,
 "nbformat_minor": 5
}
