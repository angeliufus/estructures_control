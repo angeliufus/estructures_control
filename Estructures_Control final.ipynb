{
 "cells": [
  {
   "cell_type": "markdown",
   "id": "b6b812fe",
   "metadata": {},
   "source": [
    "# TASCA M2 T02"
   ]
  },
  {
   "cell_type": "markdown",
   "id": "8ded2d74",
   "metadata": {},
   "source": [
    "## Exercici 1\n",
    "- L'exercici consisteix a crear un programa que et classifiqui una variable numèrica en funció de l’escala\n",
    " Suspès/Aprovat/Notable/Excel·lent.\n",
    "Recorda que Suspès < 5, Aprovat > 5 i < 7, Notable > 7 i < 9 i Excel·lent > 9."
   ]
  },
  {
   "cell_type": "code",
   "execution_count": null,
   "id": "744857b6",
   "metadata": {},
   "outputs": [],
   "source": [
    "Nombre = float(input(\"Entra la teva nota del 0 al 10 si us plau:\" ))\n",
    "#Per assegurar que entren una nota del 0 al 10\n",
    "while Nombre <0 or Nombre > 10:\n",
    "    print(\"Error. Entra un nombre del 0 al 10, si us plau:\")\n",
    "    Nombre = float(input(\"Entra un nombre del 0 al 10: \"))\n",
    "#Condiciono les xifres a les notes corresponents                    \n",
    "if Nombre >= 0 and Nombre < 5:\n",
    "    Nota = \"Suspès\"\n",
    "elif Nombre >= 5 and Nombre <= 7:\n",
    "    Nota = \"Aprovat\"\n",
    "elif Nombre > 7 and Nombre <= 9:\n",
    "    Nota = \"Notable\"\n",
    "elif Nombre > 9 and Nombre <= 10:\n",
    "    Nota = \"Excel·lent\"\n",
    "                     \n",
    "print( \"La nota que has tret és: \",Nota)"
   ]
  },
  {
   "cell_type": "markdown",
   "id": "29e5eb2a",
   "metadata": {},
   "source": [
    "## Exercici 2\n",
    "- Crea un programa que et pregunti dos números.\n",
    "T’ha de mostrar un missatge dient si el primer és més gran, el segon és més gran o són iguals."
   ]
  },
  {
   "cell_type": "code",
   "execution_count": null,
   "id": "d83520b6",
   "metadata": {},
   "outputs": [],
   "source": [
    "# Crido a entrar 2 números\n",
    "num1 = int(input('Entra el primer numero: '))\n",
    "num2 = int(input('Entra el segon numero: '))\n",
    "\n",
    "# els numeros son iguals\n",
    "if num1 == num2:\n",
    "    print(\"El primer numero es igual al segon\")\n",
    "#  el primer és més gran\n",
    "elif num1>num2:\n",
    "    print(\"El primer numero es més gran que el segon\")\n",
    "#  el segon és més gran\n",
    "elif num2>num1:\n",
    "    print(\"El segon numero es més gran que el primer\")\n",
    "    "
   ]
  },
  {
   "cell_type": "markdown",
   "id": "fe56fed2",
   "metadata": {},
   "source": [
    "## Exercici 3\n",
    "- Crea un programa que et pregunti el teu nom, i et demani un número. \n",
    "Si el número és 0, hauria de mostrar un missatge d’error. \n",
    "En cas contrari, hauria de mostrar el nom repetit tants cops com indiqui el número. \n",
    "Per exemple, “Joan Joan Joan”."
   ]
  },
  {
   "cell_type": "code",
   "execution_count": 1,
   "id": "c5abee96",
   "metadata": {},
   "outputs": [
    {
     "name": "stdout",
     "output_type": "stream",
     "text": [
      "Entra el teu nom: Angels\n",
      "Entra un numero: 9\n",
      "Angels Angels Angels Angels Angels Angels Angels Angels Angels \n"
     ]
    }
   ],
   "source": [
    "# Crido a entrar el nom i un numero\n",
    "Nom = str(input('Entra el teu nom: '))\n",
    "numero = int(input('Entra un numero: '))\n",
    "# Si el numero es 0 dono error\n",
    "if numero == 0:\n",
    "    print('El 0 es un Error')\n",
    "# Si el numero es diferent de 0 li faig que imprimeixi el nom n vegades amb el comand (*) per el numero\n",
    "elif numero != 0:\n",
    "    print ((Nom+ \" \") * numero)\n",
    "    "
   ]
  },
  {
   "cell_type": "markdown",
   "id": "61b9d885",
   "metadata": {},
   "source": [
    "## Exercici 4 Demanant al usuari una llista de numeros\n",
    "- Crea un programa que donada una llista qualsevol, et digui si és simètrica o no. Si ho és, que et digui quants elements té."
   ]
  },
  {
   "cell_type": "code",
   "execution_count": 7,
   "id": "25d6a5a0",
   "metadata": {},
   "outputs": [
    {
     "name": "stdout",
     "output_type": "stream",
     "text": [
      "Entra un numero per anar fent una llista (o escriu 'fet' per acabar): 1\n",
      "Entra un numero per anar fent una llista (o escriu 'fet' per acabar): 2\n",
      "Entra un numero per anar fent una llista (o escriu 'fet' per acabar): 3\n",
      "Entra un numero per anar fent una llista (o escriu 'fet' per acabar): 4\n",
      "Entra un numero per anar fent una llista (o escriu 'fet' per acabar): 3\n",
      "Entra un numero per anar fent una llista (o escriu 'fet' per acabar): 2\n",
      "Entra un numero per anar fent una llista (o escriu 'fet' per acabar): 1\n",
      "Entra un numero per anar fent una llista (o escriu 'fet' per acabar): fet\n",
      "Aquesta es la teva llista:  [1, 2, 3, 4, 3, 2, 1]\n",
      "La llista és simètrica i té 7 elements.\n"
     ]
    }
   ],
   "source": [
    "# Aqui no se si em pregunten que el programa sigui perque l'usuari/a entri una llista...Perque una llista sigui simetrica s'ha de poder llegir igual per el principi i per el final.\n",
    "\n",
    "numeros = []  # Començo una llista buida de numeros\n",
    "#Demano al usuari que entri numeros o posi \"fet\" quan hagi acabat\n",
    "while True:\n",
    "    try:\n",
    "        num = input(\"Entra un numero per anar fent una llista (o escriu 'fet' per acabar): \") \n",
    "        if num.lower() == 'fet':\n",
    "            break  \n",
    "        else:\n",
    "            num = int(num) \n",
    "            numeros.append(num)  # Afegeix el numero a la llista\n",
    "    except ValueError:\n",
    "        print(\"Nomes pots entrar un numero o 'fet'\")\n",
    "\n",
    "print(\"Aquesta es la teva llista: \", numeros) #aquesta es la llista que ha creat l'usuari\n",
    "        \n",
    "def es_simetrica(numeros): #defineixo la funció per veure si la llista creada es simetrica\n",
    "    longitud = len(numeros) #miro el nombre de items a la llista\n",
    "    for i in range(longitud // 2): #aquest bucle iterarà per la meitat de la llista, suficient per recorrer tota la llista de forma simètrica.\n",
    "        if numeros[i] != numeros[longitud - i - 1]: #comprova si el numero de posicio a la llista començant per principi i el numero per el final son el mateix. \n",
    "            return False\n",
    "    return True\n",
    "\n",
    "if es_simetrica(numeros):\n",
    "    print(\"La llista és simètrica i té\", len(numeros), \"elements.\") # si es simetrica et diu quans items te la llista \n",
    "else:\n",
    "    print(\"La llista no és simètrica.\")\n"
   ]
  },
  {
   "cell_type": "markdown",
   "id": "3fefa107",
   "metadata": {},
   "source": [
    "#### Exercici 4 Escrivint tu la llista en el programa"
   ]
  },
  {
   "cell_type": "code",
   "execution_count": 10,
   "id": "1562bcaf",
   "metadata": {},
   "outputs": [
    {
     "name": "stdout",
     "output_type": "stream",
     "text": [
      "La llista no és simètrica.\n"
     ]
    }
   ],
   "source": [
    "def es_simetrica(llista): #defineixo la funció per veure si la llista creada es simetrica\n",
    "    longitud = len(llista) #miro el nombre de items a la llista\n",
    "    for i in range(longitud // 2): #aquest bucle iterarà per la meitat de la llista, suficient per recorrer tota la llista de forma simètrica.\n",
    "        if llista[i] != llista[longitud - i - 1]: #comprova si el numero de posicio a la llista començant per principi i el numero per el final son el mateix. \n",
    "            return False\n",
    "    return True\n",
    "llista = [0, 1, 2, 8, 3, 2, 1, 0] #Canvia aqui manualment els numeros que tu vulguis\n",
    "    \n",
    "if es_simetrica(llista):\n",
    "    print(\"La llista és simètrica i té\", len(llista), \"elements.\")\n",
    "else:\n",
    "    print(\"La llista no és simètrica.\")"
   ]
  },
  {
   "cell_type": "markdown",
   "id": "3041dfd2",
   "metadata": {},
   "source": [
    "## Exercici 5 \n",
    "- Crea un programa que donada una llista, et digui quants números coincideixen amb la seva posició. \n",
    "Per exemple [3,4,2,0,2,3,6] el 2 i el 6 coincideixen."
   ]
  },
  {
   "cell_type": "code",
   "execution_count": 2,
   "id": "dc9724c1",
   "metadata": {},
   "outputs": [
    {
     "name": "stdout",
     "output_type": "stream",
     "text": [
      "Hi ha 3 números que coincideixen amb la seva posició\n"
     ]
    }
   ],
   "source": [
    "#Aqui tinc el mateix dubte que al exercici 4, no se si vols que sigui el usuari el que entra la llista.\n",
    "def coincidents_posicio(llisteta): # defineixo la funcio per veure si el numero i la posicio coincideix\n",
    "    coincidents = 0 #creo una variable i la inicio a zero per comptar els numeros que coincideixen a la seva posició\n",
    "    for index, valor in enumerate(llisteta):  #faig un bucle per el nro de la posició, li miro el valor i amb el comand enumerate,començo el comptador. \n",
    "        if index == valor: \n",
    "            coincidents += 1 #si coincideixen posició i valor, compte'ls \n",
    "    return coincidents \n",
    "llisteta = [0,1,3,23,2,3,6] #Canvia aqui els numeros que vulguis\n",
    "if coincidents_posicio(llisteta):\n",
    "    print(\"Hi ha\", coincidents_posicio(llisteta), \"números que coincideixen amb la seva posició\")\n"
   ]
  },
  {
   "cell_type": "code",
   "execution_count": null,
   "id": "7931d51c",
   "metadata": {},
   "outputs": [],
   "source": []
  }
 ],
 "metadata": {
  "kernelspec": {
   "display_name": "Python 3 (ipykernel)",
   "language": "python",
   "name": "python3"
  },
  "language_info": {
   "codemirror_mode": {
    "name": "ipython",
    "version": 3
   },
   "file_extension": ".py",
   "mimetype": "text/x-python",
   "name": "python",
   "nbconvert_exporter": "python",
   "pygments_lexer": "ipython3",
   "version": "3.9.12"
  }
 },
 "nbformat": 4,
 "nbformat_minor": 5
}
